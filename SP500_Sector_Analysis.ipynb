{
  "nbformat": 4,
  "nbformat_minor": 0,
  "metadata": {
    "colab": {
      "provenance": [],
      "authorship_tag": "ABX9TyO3fHKdKFkR0kMK9E8+YsB4",
      "include_colab_link": true
    },
    "kernelspec": {
      "name": "python3",
      "display_name": "Python 3"
    },
    "language_info": {
      "name": "python"
    }
  },
  "cells": [
    {
      "cell_type": "markdown",
      "metadata": {
        "id": "view-in-github",
        "colab_type": "text"
      },
      "source": [
        "<a href=\"https://colab.research.google.com/github/stonewallmhk/QuantMindi/blob/main/SP500_Sector_Analysis.ipynb\" target=\"_parent\"><img src=\"https://colab.research.google.com/assets/colab-badge.svg\" alt=\"Open In Colab\"/></a>"
      ]
    },
    {
      "cell_type": "code",
      "execution_count": 1,
      "metadata": {
        "colab": {
          "base_uri": "https://localhost:8080/"
        },
        "id": "tMxum0WlDfjQ",
        "outputId": "a69187d1-05e0-4756-a198-a6b8bd79c45a"
      },
      "outputs": [
        {
          "output_type": "stream",
          "name": "stdout",
          "text": [
            "Requirement already satisfied: yfinance in /usr/local/lib/python3.10/dist-packages (0.2.43)\n",
            "Requirement already satisfied: pandas>=1.3.0 in /usr/local/lib/python3.10/dist-packages (from yfinance) (2.1.4)\n",
            "Requirement already satisfied: numpy>=1.16.5 in /usr/local/lib/python3.10/dist-packages (from yfinance) (1.26.4)\n",
            "Requirement already satisfied: requests>=2.31 in /usr/local/lib/python3.10/dist-packages (from yfinance) (2.32.3)\n",
            "Requirement already satisfied: multitasking>=0.0.7 in /usr/local/lib/python3.10/dist-packages (from yfinance) (0.0.11)\n",
            "Requirement already satisfied: lxml>=4.9.1 in /usr/local/lib/python3.10/dist-packages (from yfinance) (4.9.4)\n",
            "Requirement already satisfied: platformdirs>=2.0.0 in /usr/local/lib/python3.10/dist-packages (from yfinance) (4.3.6)\n",
            "Requirement already satisfied: pytz>=2022.5 in /usr/local/lib/python3.10/dist-packages (from yfinance) (2024.2)\n",
            "Requirement already satisfied: frozendict>=2.3.4 in /usr/local/lib/python3.10/dist-packages (from yfinance) (2.4.4)\n",
            "Requirement already satisfied: peewee>=3.16.2 in /usr/local/lib/python3.10/dist-packages (from yfinance) (3.17.6)\n",
            "Requirement already satisfied: beautifulsoup4>=4.11.1 in /usr/local/lib/python3.10/dist-packages (from yfinance) (4.12.3)\n",
            "Requirement already satisfied: html5lib>=1.1 in /usr/local/lib/python3.10/dist-packages (from yfinance) (1.1)\n",
            "Requirement already satisfied: soupsieve>1.2 in /usr/local/lib/python3.10/dist-packages (from beautifulsoup4>=4.11.1->yfinance) (2.6)\n",
            "Requirement already satisfied: six>=1.9 in /usr/local/lib/python3.10/dist-packages (from html5lib>=1.1->yfinance) (1.16.0)\n",
            "Requirement already satisfied: webencodings in /usr/local/lib/python3.10/dist-packages (from html5lib>=1.1->yfinance) (0.5.1)\n",
            "Requirement already satisfied: python-dateutil>=2.8.2 in /usr/local/lib/python3.10/dist-packages (from pandas>=1.3.0->yfinance) (2.8.2)\n",
            "Requirement already satisfied: tzdata>=2022.1 in /usr/local/lib/python3.10/dist-packages (from pandas>=1.3.0->yfinance) (2024.1)\n",
            "Requirement already satisfied: charset-normalizer<4,>=2 in /usr/local/lib/python3.10/dist-packages (from requests>=2.31->yfinance) (3.3.2)\n",
            "Requirement already satisfied: idna<4,>=2.5 in /usr/local/lib/python3.10/dist-packages (from requests>=2.31->yfinance) (3.10)\n",
            "Requirement already satisfied: urllib3<3,>=1.21.1 in /usr/local/lib/python3.10/dist-packages (from requests>=2.31->yfinance) (2.2.3)\n",
            "Requirement already satisfied: certifi>=2017.4.17 in /usr/local/lib/python3.10/dist-packages (from requests>=2.31->yfinance) (2024.8.30)\n"
          ]
        }
      ],
      "source": [
        "!pip install yfinance"
      ]
    },
    {
      "cell_type": "code",
      "source": [
        "import yfinance as yf\n",
        "import pandas as pd\n",
        "from tqdm import tqdm\n",
        "import datetime\n",
        "import os\n",
        "import matplotlib.pyplot as plt"
      ],
      "metadata": {
        "id": "fbbTEArLDrWg"
      },
      "execution_count": 39,
      "outputs": []
    },
    {
      "cell_type": "code",
      "source": [
        "# prompt: increase output row length to extend to screen\n",
        "\n",
        "pd.set_option('display.max_rows', None)\n",
        "pd.set_option('display.width', 900)"
      ],
      "metadata": {
        "id": "0fEXSGwyWR_f"
      },
      "execution_count": 3,
      "outputs": []
    },
    {
      "cell_type": "code",
      "source": [
        "tickers_names = {\n",
        "    \"XLC\": \"Communication Services\",\n",
        "    \"XLY\": \"Consumer Discretionary\",\n",
        "    \"XLP\": \"Consumer Staples\",\n",
        "    \"XLE\": \"Energy\",\n",
        "    \"XLF\": \"Financials\",\n",
        "    \"XLV\": \"Health Care\",\n",
        "    \"XLI\": \"Industrials\",\n",
        "    \"XLB\": \"Materials\",\n",
        "    \"XLRE\": \"Real Estate\",\n",
        "    \"XLK\": \"Technology\",\n",
        "    \"XLU\": \"Utilities\",\n",
        "}\n",
        "\n",
        "# 1. Function to fetch data for a given ticker symbol and commodity name\n",
        "def fetch_data(ticker_symbol, commodity_name):\n",
        "    ticker = yf.Ticker(ticker_symbol)\n",
        "    today = datetime.date.today().strftime('%Y-%m-%d')\n",
        "    data = ticker.history(start=\"1900-01-01\", end=today)\n",
        "    data.reset_index(inplace=True)\n",
        "\n",
        "    # Check if the 'Date' column is of datetime type\n",
        "    if pd.api.types.is_datetime64_any_dtype(data['Date']):\n",
        "        data['Date'] = data['Date'].dt.strftime('%Y-%m-%d')\n",
        "\n",
        "    # Drop the unnecessary columns\n",
        "    data.drop(columns=['Dividends', 'Stock Splits', 'Capital Gains'], inplace=True, errors='ignore')\n",
        "\n",
        "    data['ticker'] = ticker_symbol\n",
        "    data['sector'] = commodity_name\n",
        "\n",
        "    # Convert other column names to lowercase\n",
        "    data.columns = [col.lower() for col in data.columns]\n",
        "\n",
        "    # Reorder columns to have 'ticker' and 'commodity' at the beginning\n",
        "    data = data[['ticker', 'sector'] + [col for col in data.columns if col not in ['ticker', 'sector']]]\n",
        "\n",
        "    return data\n",
        "\n",
        "\n",
        "# 2. Loop over each symbol and append data to the master DataFrame\n",
        "all_data = []\n",
        "for symbol, name in tqdm(tickers_names.items(), desc=\"Fetching data\"):  # tqdm progress bar!\n",
        "    all_data.append(fetch_data(symbol, name))\n",
        "\n",
        "# Concatenate all the individual datasets into one\n",
        "master_data = pd.concat(all_data, ignore_index=True)"
      ],
      "metadata": {
        "colab": {
          "base_uri": "https://localhost:8080/"
        },
        "id": "TlQhV78aD0Xw",
        "outputId": "a70f7c56-215f-4e82-8df8-e60c9488e143"
      },
      "execution_count": 11,
      "outputs": [
        {
          "output_type": "stream",
          "name": "stderr",
          "text": [
            "Fetching data: 100%|██████████| 11/11 [00:02<00:00,  5.16it/s]\n"
          ]
        }
      ]
    },
    {
      "cell_type": "code",
      "source": [
        "master_data.info()"
      ],
      "metadata": {
        "colab": {
          "base_uri": "https://localhost:8080/"
        },
        "id": "88j1hLTwEWZ8",
        "outputId": "dfcdc0e0-7c15-459b-a897-8280ea9db358"
      },
      "execution_count": 12,
      "outputs": [
        {
          "output_type": "stream",
          "name": "stdout",
          "text": [
            "<class 'pandas.core.frame.DataFrame'>\n",
            "RangeIndex: 62174 entries, 0 to 62173\n",
            "Data columns (total 8 columns):\n",
            " #   Column  Non-Null Count  Dtype  \n",
            "---  ------  --------------  -----  \n",
            " 0   ticker  62174 non-null  object \n",
            " 1   sector  62174 non-null  object \n",
            " 2   date    62174 non-null  object \n",
            " 3   open    62174 non-null  float64\n",
            " 4   high    62174 non-null  float64\n",
            " 5   low     62174 non-null  float64\n",
            " 6   close   62174 non-null  float64\n",
            " 7   volume  62174 non-null  int64  \n",
            "dtypes: float64(4), int64(1), object(3)\n",
            "memory usage: 3.8+ MB\n"
          ]
        }
      ]
    },
    {
      "cell_type": "code",
      "source": [
        "master_data.head()"
      ],
      "metadata": {
        "colab": {
          "base_uri": "https://localhost:8080/",
          "height": 206
        },
        "id": "A-xngNovEbSB",
        "outputId": "d6b08416-85a0-457b-fe97-518f224aa180"
      },
      "execution_count": 6,
      "outputs": [
        {
          "output_type": "execute_result",
          "data": {
            "text/plain": [
              "  ticker                  sector        date       open       high        low      close   volume\n",
              "0    XLC  Communication Services  2018-06-19  46.914399  47.254222  46.801125  47.159824    16600\n",
              "1    XLC  Communication Services  2018-06-20  47.622349  48.036743  47.622349  47.745064   190000\n",
              "2    XLC  Communication Services  2018-06-21  47.924414  47.999928  47.386362  47.452438   428700\n",
              "3    XLC  Communication Services  2018-06-22  47.754512  47.773391  47.376930  47.660118   181500\n",
              "4    XLC  Communication Services  2018-06-25  47.414687  47.414687  46.267786  46.678406  2509600"
            ],
            "text/html": [
              "\n",
              "  <div id=\"df-4c6932d2-c804-48a4-9d5c-4f9c9282dcf1\" class=\"colab-df-container\">\n",
              "    <div>\n",
              "<style scoped>\n",
              "    .dataframe tbody tr th:only-of-type {\n",
              "        vertical-align: middle;\n",
              "    }\n",
              "\n",
              "    .dataframe tbody tr th {\n",
              "        vertical-align: top;\n",
              "    }\n",
              "\n",
              "    .dataframe thead th {\n",
              "        text-align: right;\n",
              "    }\n",
              "</style>\n",
              "<table border=\"1\" class=\"dataframe\">\n",
              "  <thead>\n",
              "    <tr style=\"text-align: right;\">\n",
              "      <th></th>\n",
              "      <th>ticker</th>\n",
              "      <th>sector</th>\n",
              "      <th>date</th>\n",
              "      <th>open</th>\n",
              "      <th>high</th>\n",
              "      <th>low</th>\n",
              "      <th>close</th>\n",
              "      <th>volume</th>\n",
              "    </tr>\n",
              "  </thead>\n",
              "  <tbody>\n",
              "    <tr>\n",
              "      <th>0</th>\n",
              "      <td>XLC</td>\n",
              "      <td>Communication Services</td>\n",
              "      <td>2018-06-19</td>\n",
              "      <td>46.914399</td>\n",
              "      <td>47.254222</td>\n",
              "      <td>46.801125</td>\n",
              "      <td>47.159824</td>\n",
              "      <td>16600</td>\n",
              "    </tr>\n",
              "    <tr>\n",
              "      <th>1</th>\n",
              "      <td>XLC</td>\n",
              "      <td>Communication Services</td>\n",
              "      <td>2018-06-20</td>\n",
              "      <td>47.622349</td>\n",
              "      <td>48.036743</td>\n",
              "      <td>47.622349</td>\n",
              "      <td>47.745064</td>\n",
              "      <td>190000</td>\n",
              "    </tr>\n",
              "    <tr>\n",
              "      <th>2</th>\n",
              "      <td>XLC</td>\n",
              "      <td>Communication Services</td>\n",
              "      <td>2018-06-21</td>\n",
              "      <td>47.924414</td>\n",
              "      <td>47.999928</td>\n",
              "      <td>47.386362</td>\n",
              "      <td>47.452438</td>\n",
              "      <td>428700</td>\n",
              "    </tr>\n",
              "    <tr>\n",
              "      <th>3</th>\n",
              "      <td>XLC</td>\n",
              "      <td>Communication Services</td>\n",
              "      <td>2018-06-22</td>\n",
              "      <td>47.754512</td>\n",
              "      <td>47.773391</td>\n",
              "      <td>47.376930</td>\n",
              "      <td>47.660118</td>\n",
              "      <td>181500</td>\n",
              "    </tr>\n",
              "    <tr>\n",
              "      <th>4</th>\n",
              "      <td>XLC</td>\n",
              "      <td>Communication Services</td>\n",
              "      <td>2018-06-25</td>\n",
              "      <td>47.414687</td>\n",
              "      <td>47.414687</td>\n",
              "      <td>46.267786</td>\n",
              "      <td>46.678406</td>\n",
              "      <td>2509600</td>\n",
              "    </tr>\n",
              "  </tbody>\n",
              "</table>\n",
              "</div>\n",
              "    <div class=\"colab-df-buttons\">\n",
              "\n",
              "  <div class=\"colab-df-container\">\n",
              "    <button class=\"colab-df-convert\" onclick=\"convertToInteractive('df-4c6932d2-c804-48a4-9d5c-4f9c9282dcf1')\"\n",
              "            title=\"Convert this dataframe to an interactive table.\"\n",
              "            style=\"display:none;\">\n",
              "\n",
              "  <svg xmlns=\"http://www.w3.org/2000/svg\" height=\"24px\" viewBox=\"0 -960 960 960\">\n",
              "    <path d=\"M120-120v-720h720v720H120Zm60-500h600v-160H180v160Zm220 220h160v-160H400v160Zm0 220h160v-160H400v160ZM180-400h160v-160H180v160Zm440 0h160v-160H620v160ZM180-180h160v-160H180v160Zm440 0h160v-160H620v160Z\"/>\n",
              "  </svg>\n",
              "    </button>\n",
              "\n",
              "  <style>\n",
              "    .colab-df-container {\n",
              "      display:flex;\n",
              "      gap: 12px;\n",
              "    }\n",
              "\n",
              "    .colab-df-convert {\n",
              "      background-color: #E8F0FE;\n",
              "      border: none;\n",
              "      border-radius: 50%;\n",
              "      cursor: pointer;\n",
              "      display: none;\n",
              "      fill: #1967D2;\n",
              "      height: 32px;\n",
              "      padding: 0 0 0 0;\n",
              "      width: 32px;\n",
              "    }\n",
              "\n",
              "    .colab-df-convert:hover {\n",
              "      background-color: #E2EBFA;\n",
              "      box-shadow: 0px 1px 2px rgba(60, 64, 67, 0.3), 0px 1px 3px 1px rgba(60, 64, 67, 0.15);\n",
              "      fill: #174EA6;\n",
              "    }\n",
              "\n",
              "    .colab-df-buttons div {\n",
              "      margin-bottom: 4px;\n",
              "    }\n",
              "\n",
              "    [theme=dark] .colab-df-convert {\n",
              "      background-color: #3B4455;\n",
              "      fill: #D2E3FC;\n",
              "    }\n",
              "\n",
              "    [theme=dark] .colab-df-convert:hover {\n",
              "      background-color: #434B5C;\n",
              "      box-shadow: 0px 1px 3px 1px rgba(0, 0, 0, 0.15);\n",
              "      filter: drop-shadow(0px 1px 2px rgba(0, 0, 0, 0.3));\n",
              "      fill: #FFFFFF;\n",
              "    }\n",
              "  </style>\n",
              "\n",
              "    <script>\n",
              "      const buttonEl =\n",
              "        document.querySelector('#df-4c6932d2-c804-48a4-9d5c-4f9c9282dcf1 button.colab-df-convert');\n",
              "      buttonEl.style.display =\n",
              "        google.colab.kernel.accessAllowed ? 'block' : 'none';\n",
              "\n",
              "      async function convertToInteractive(key) {\n",
              "        const element = document.querySelector('#df-4c6932d2-c804-48a4-9d5c-4f9c9282dcf1');\n",
              "        const dataTable =\n",
              "          await google.colab.kernel.invokeFunction('convertToInteractive',\n",
              "                                                    [key], {});\n",
              "        if (!dataTable) return;\n",
              "\n",
              "        const docLinkHtml = 'Like what you see? Visit the ' +\n",
              "          '<a target=\"_blank\" href=https://colab.research.google.com/notebooks/data_table.ipynb>data table notebook</a>'\n",
              "          + ' to learn more about interactive tables.';\n",
              "        element.innerHTML = '';\n",
              "        dataTable['output_type'] = 'display_data';\n",
              "        await google.colab.output.renderOutput(dataTable, element);\n",
              "        const docLink = document.createElement('div');\n",
              "        docLink.innerHTML = docLinkHtml;\n",
              "        element.appendChild(docLink);\n",
              "      }\n",
              "    </script>\n",
              "  </div>\n",
              "\n",
              "\n",
              "<div id=\"df-8154894c-7c2c-4628-8c97-49476b9dcdca\">\n",
              "  <button class=\"colab-df-quickchart\" onclick=\"quickchart('df-8154894c-7c2c-4628-8c97-49476b9dcdca')\"\n",
              "            title=\"Suggest charts\"\n",
              "            style=\"display:none;\">\n",
              "\n",
              "<svg xmlns=\"http://www.w3.org/2000/svg\" height=\"24px\"viewBox=\"0 0 24 24\"\n",
              "     width=\"24px\">\n",
              "    <g>\n",
              "        <path d=\"M19 3H5c-1.1 0-2 .9-2 2v14c0 1.1.9 2 2 2h14c1.1 0 2-.9 2-2V5c0-1.1-.9-2-2-2zM9 17H7v-7h2v7zm4 0h-2V7h2v10zm4 0h-2v-4h2v4z\"/>\n",
              "    </g>\n",
              "</svg>\n",
              "  </button>\n",
              "\n",
              "<style>\n",
              "  .colab-df-quickchart {\n",
              "      --bg-color: #E8F0FE;\n",
              "      --fill-color: #1967D2;\n",
              "      --hover-bg-color: #E2EBFA;\n",
              "      --hover-fill-color: #174EA6;\n",
              "      --disabled-fill-color: #AAA;\n",
              "      --disabled-bg-color: #DDD;\n",
              "  }\n",
              "\n",
              "  [theme=dark] .colab-df-quickchart {\n",
              "      --bg-color: #3B4455;\n",
              "      --fill-color: #D2E3FC;\n",
              "      --hover-bg-color: #434B5C;\n",
              "      --hover-fill-color: #FFFFFF;\n",
              "      --disabled-bg-color: #3B4455;\n",
              "      --disabled-fill-color: #666;\n",
              "  }\n",
              "\n",
              "  .colab-df-quickchart {\n",
              "    background-color: var(--bg-color);\n",
              "    border: none;\n",
              "    border-radius: 50%;\n",
              "    cursor: pointer;\n",
              "    display: none;\n",
              "    fill: var(--fill-color);\n",
              "    height: 32px;\n",
              "    padding: 0;\n",
              "    width: 32px;\n",
              "  }\n",
              "\n",
              "  .colab-df-quickchart:hover {\n",
              "    background-color: var(--hover-bg-color);\n",
              "    box-shadow: 0 1px 2px rgba(60, 64, 67, 0.3), 0 1px 3px 1px rgba(60, 64, 67, 0.15);\n",
              "    fill: var(--button-hover-fill-color);\n",
              "  }\n",
              "\n",
              "  .colab-df-quickchart-complete:disabled,\n",
              "  .colab-df-quickchart-complete:disabled:hover {\n",
              "    background-color: var(--disabled-bg-color);\n",
              "    fill: var(--disabled-fill-color);\n",
              "    box-shadow: none;\n",
              "  }\n",
              "\n",
              "  .colab-df-spinner {\n",
              "    border: 2px solid var(--fill-color);\n",
              "    border-color: transparent;\n",
              "    border-bottom-color: var(--fill-color);\n",
              "    animation:\n",
              "      spin 1s steps(1) infinite;\n",
              "  }\n",
              "\n",
              "  @keyframes spin {\n",
              "    0% {\n",
              "      border-color: transparent;\n",
              "      border-bottom-color: var(--fill-color);\n",
              "      border-left-color: var(--fill-color);\n",
              "    }\n",
              "    20% {\n",
              "      border-color: transparent;\n",
              "      border-left-color: var(--fill-color);\n",
              "      border-top-color: var(--fill-color);\n",
              "    }\n",
              "    30% {\n",
              "      border-color: transparent;\n",
              "      border-left-color: var(--fill-color);\n",
              "      border-top-color: var(--fill-color);\n",
              "      border-right-color: var(--fill-color);\n",
              "    }\n",
              "    40% {\n",
              "      border-color: transparent;\n",
              "      border-right-color: var(--fill-color);\n",
              "      border-top-color: var(--fill-color);\n",
              "    }\n",
              "    60% {\n",
              "      border-color: transparent;\n",
              "      border-right-color: var(--fill-color);\n",
              "    }\n",
              "    80% {\n",
              "      border-color: transparent;\n",
              "      border-right-color: var(--fill-color);\n",
              "      border-bottom-color: var(--fill-color);\n",
              "    }\n",
              "    90% {\n",
              "      border-color: transparent;\n",
              "      border-bottom-color: var(--fill-color);\n",
              "    }\n",
              "  }\n",
              "</style>\n",
              "\n",
              "  <script>\n",
              "    async function quickchart(key) {\n",
              "      const quickchartButtonEl =\n",
              "        document.querySelector('#' + key + ' button');\n",
              "      quickchartButtonEl.disabled = true;  // To prevent multiple clicks.\n",
              "      quickchartButtonEl.classList.add('colab-df-spinner');\n",
              "      try {\n",
              "        const charts = await google.colab.kernel.invokeFunction(\n",
              "            'suggestCharts', [key], {});\n",
              "      } catch (error) {\n",
              "        console.error('Error during call to suggestCharts:', error);\n",
              "      }\n",
              "      quickchartButtonEl.classList.remove('colab-df-spinner');\n",
              "      quickchartButtonEl.classList.add('colab-df-quickchart-complete');\n",
              "    }\n",
              "    (() => {\n",
              "      let quickchartButtonEl =\n",
              "        document.querySelector('#df-8154894c-7c2c-4628-8c97-49476b9dcdca button');\n",
              "      quickchartButtonEl.style.display =\n",
              "        google.colab.kernel.accessAllowed ? 'block' : 'none';\n",
              "    })();\n",
              "  </script>\n",
              "</div>\n",
              "\n",
              "    </div>\n",
              "  </div>\n"
            ],
            "application/vnd.google.colaboratory.intrinsic+json": {
              "type": "dataframe",
              "variable_name": "master_data",
              "summary": "{\n  \"name\": \"master_data\",\n  \"rows\": 62174,\n  \"fields\": [\n    {\n      \"column\": \"ticker\",\n      \"properties\": {\n        \"dtype\": \"category\",\n        \"num_unique_values\": 11,\n        \"samples\": [\n          \"XLV\",\n          \"XLC\",\n          \"XLK\"\n        ],\n        \"semantic_type\": \"\",\n        \"description\": \"\"\n      }\n    },\n    {\n      \"column\": \"sector\",\n      \"properties\": {\n        \"dtype\": \"category\",\n        \"num_unique_values\": 11,\n        \"samples\": [\n          \"Health Care\",\n          \"Communication Services\",\n          \"Technology\"\n        ],\n        \"semantic_type\": \"\",\n        \"description\": \"\"\n      }\n    },\n    {\n      \"column\": \"date\",\n      \"properties\": {\n        \"dtype\": \"object\",\n        \"num_unique_values\": 6482,\n        \"samples\": [\n          \"2006-11-03\",\n          \"2008-03-24\",\n          \"2001-03-02\"\n        ],\n        \"semantic_type\": \"\",\n        \"description\": \"\"\n      }\n    },\n    {\n      \"column\": \"open\",\n      \"properties\": {\n        \"dtype\": \"number\",\n        \"std\": 33.985911728099026,\n        \"min\": 3.6875964477456504,\n        \"max\": 237.61318249971805,\n        \"num_unique_values\": 62043,\n        \"samples\": [\n          34.69812629833285,\n          51.62502999166125,\n          18.149895550342592\n        ],\n        \"semantic_type\": \"\",\n        \"description\": \"\"\n      }\n    },\n    {\n      \"column\": \"high\",\n      \"properties\": {\n        \"dtype\": \"number\",\n        \"std\": 34.22435701951249,\n        \"min\": 3.931405355536246,\n        \"max\": 237.7130092901565,\n        \"num_unique_values\": 61930,\n        \"samples\": [\n          29.65754227749851,\n          11.738654314972452,\n          21.314587915845\n        ],\n        \"semantic_type\": \"\",\n        \"description\": \"\"\n      }\n    },\n    {\n      \"column\": \"low\",\n      \"properties\": {\n        \"dtype\": \"number\",\n        \"std\": 33.733261878741494,\n        \"min\": 3.5839790034854158,\n        \"max\": 234.14942084084598,\n        \"num_unique_values\": 61945,\n        \"samples\": [\n          25.578418535446,\n          14.830313571318868,\n          112.40791201741831\n        ],\n        \"semantic_type\": \"\",\n        \"description\": \"\"\n      }\n    },\n    {\n      \"column\": \"close\",\n      \"properties\": {\n        \"dtype\": \"number\",\n        \"std\": 33.99204410622198,\n        \"min\": 3.7668354511260986,\n        \"max\": 237.2538299560547,\n        \"num_unique_values\": 56027,\n        \"samples\": [\n          22.96537971496582,\n          17.910486221313477,\n          26.871620178222656\n        ],\n        \"semantic_type\": \"\",\n        \"description\": \"\"\n      }\n    },\n    {\n      \"column\": \"volume\",\n      \"properties\": {\n        \"dtype\": \"number\",\n        \"std\": 27296522,\n        \"min\": 0,\n        \"max\": 1050592272,\n        \"num_unique_values\": 50081,\n        \"samples\": [\n          10893400,\n          1660700,\n          7409900\n        ],\n        \"semantic_type\": \"\",\n        \"description\": \"\"\n      }\n    }\n  ]\n}"
            }
          },
          "metadata": {},
          "execution_count": 6
        }
      ]
    },
    {
      "cell_type": "code",
      "source": [
        "# prompt: Get the min and max date for every ticker\n",
        "\n",
        "# Group by ticker and get the min and max date\n",
        "min_max_dates = master_data.groupby('ticker')['date'].agg(['min', 'max'])\n",
        "\n",
        "print(min_max_dates)\n"
      ],
      "metadata": {
        "colab": {
          "base_uri": "https://localhost:8080/"
        },
        "id": "96O5S5oSEhQh",
        "outputId": "0428b69e-e321-4de7-8781-beb97a2a6a87"
      },
      "execution_count": 7,
      "outputs": [
        {
          "output_type": "stream",
          "name": "stdout",
          "text": [
            "               min         max\n",
            "ticker                        \n",
            "XLB     1998-12-22  2024-09-26\n",
            "XLC     2018-06-19  2024-09-26\n",
            "XLE     1998-12-22  2024-09-26\n",
            "XLF     1998-12-22  2024-09-26\n",
            "XLI     1998-12-22  2024-09-26\n",
            "XLK     1998-12-22  2024-09-26\n",
            "XLP     1998-12-22  2024-09-26\n",
            "XLRE    2015-10-08  2024-09-26\n",
            "XLU     1998-12-22  2024-09-26\n",
            "XLV     1998-12-22  2024-09-26\n",
            "XLY     1998-12-22  2024-09-26\n"
          ]
        }
      ]
    },
    {
      "cell_type": "markdown",
      "source": [
        "**Perform Analysis of an investment of USD 100 every month from 01-Jan-1999 till date with returns compunded annually**"
      ],
      "metadata": {
        "id": "3fjTnlfBGrfP"
      }
    },
    {
      "cell_type": "code",
      "source": [],
      "metadata": {
        "id": "XscQ3xm4Gqkp"
      },
      "execution_count": null,
      "outputs": []
    },
    {
      "cell_type": "markdown",
      "source": [
        "#Step 1: Prepare Your Data\n",
        "\n",
        "First, load your data into a pandas DataFrame and preprocess it by converting date strings to datetime objects, and exclude the tickers XLC and XLRE."
      ],
      "metadata": {
        "id": "OLXEpJAmGkS4"
      }
    },
    {
      "cell_type": "code",
      "source": [
        "# Convert 'date' to datetime\n",
        "master_data['date'] = pd.to_datetime(master_data['date'])\n",
        "\n",
        "# Filter out specific tickers\n",
        "filtered_data = master_data[~master_data['ticker'].isin(['XLC', 'XLRE'])]\n",
        "\n",
        "# Ensure data is sorted by date for each ticker\n",
        "filtered_data.sort_values(by=['ticker', 'date'], inplace=True)"
      ],
      "metadata": {
        "colab": {
          "base_uri": "https://localhost:8080/"
        },
        "id": "kqCjqN58Ew7f",
        "outputId": "b25a8952-d3e8-42c1-be0a-ccf86d4786f5"
      },
      "execution_count": 8,
      "outputs": [
        {
          "output_type": "stream",
          "name": "stderr",
          "text": [
            "<ipython-input-8-8050a132e9cc>:8: SettingWithCopyWarning: \n",
            "A value is trying to be set on a copy of a slice from a DataFrame\n",
            "\n",
            "See the caveats in the documentation: https://pandas.pydata.org/pandas-docs/stable/user_guide/indexing.html#returning-a-view-versus-a-copy\n",
            "  filtered_data.sort_values(by=['ticker', 'date'], inplace=True)\n"
          ]
        }
      ]
    },
    {
      "cell_type": "markdown",
      "source": [
        "#Step 2: Calculate Monthly Investment Returns\n",
        "\n",
        "To simulate the investment, you’ll need to resample the data to a monthly frequency, calculate the returns, and simulate the compounding investment."
      ],
      "metadata": {
        "id": "litkS3lzGb9y"
      }
    },
    {
      "cell_type": "code",
      "source": [
        "filtered_data = filtered_data.reset_index(drop=True)\n",
        "filtered_data.head()"
      ],
      "metadata": {
        "colab": {
          "base_uri": "https://localhost:8080/",
          "height": 206
        },
        "id": "hjFWBrBMHwUm",
        "outputId": "542ee2b6-d707-4aa7-e5af-a445986da9cd"
      },
      "execution_count": 10,
      "outputs": [
        {
          "output_type": "execute_result",
          "data": {
            "text/plain": [
              "  ticker     sector       date       open       high        low      close  volume\n",
              "0    XLB  Materials 1998-12-22  11.750298  11.776802  11.732628  11.776802    1900\n",
              "1    XLB  Materials 1998-12-23  11.856324  11.953507  11.856324  11.900498     700\n",
              "2    XLB  Materials 1998-12-24  12.041850  12.174373  11.988842  12.174373    1500\n",
              "3    XLB  Materials 1998-12-28  12.156707  12.156707  12.050689  12.068358    2500\n",
              "4    XLB  Materials 1998-12-29  12.289228  12.289228  12.289228  12.289228     100"
            ],
            "text/html": [
              "\n",
              "  <div id=\"df-86204c2d-5a89-4107-b073-b401521ca2f0\" class=\"colab-df-container\">\n",
              "    <div>\n",
              "<style scoped>\n",
              "    .dataframe tbody tr th:only-of-type {\n",
              "        vertical-align: middle;\n",
              "    }\n",
              "\n",
              "    .dataframe tbody tr th {\n",
              "        vertical-align: top;\n",
              "    }\n",
              "\n",
              "    .dataframe thead th {\n",
              "        text-align: right;\n",
              "    }\n",
              "</style>\n",
              "<table border=\"1\" class=\"dataframe\">\n",
              "  <thead>\n",
              "    <tr style=\"text-align: right;\">\n",
              "      <th></th>\n",
              "      <th>ticker</th>\n",
              "      <th>sector</th>\n",
              "      <th>date</th>\n",
              "      <th>open</th>\n",
              "      <th>high</th>\n",
              "      <th>low</th>\n",
              "      <th>close</th>\n",
              "      <th>volume</th>\n",
              "    </tr>\n",
              "  </thead>\n",
              "  <tbody>\n",
              "    <tr>\n",
              "      <th>0</th>\n",
              "      <td>XLB</td>\n",
              "      <td>Materials</td>\n",
              "      <td>1998-12-22</td>\n",
              "      <td>11.750298</td>\n",
              "      <td>11.776802</td>\n",
              "      <td>11.732628</td>\n",
              "      <td>11.776802</td>\n",
              "      <td>1900</td>\n",
              "    </tr>\n",
              "    <tr>\n",
              "      <th>1</th>\n",
              "      <td>XLB</td>\n",
              "      <td>Materials</td>\n",
              "      <td>1998-12-23</td>\n",
              "      <td>11.856324</td>\n",
              "      <td>11.953507</td>\n",
              "      <td>11.856324</td>\n",
              "      <td>11.900498</td>\n",
              "      <td>700</td>\n",
              "    </tr>\n",
              "    <tr>\n",
              "      <th>2</th>\n",
              "      <td>XLB</td>\n",
              "      <td>Materials</td>\n",
              "      <td>1998-12-24</td>\n",
              "      <td>12.041850</td>\n",
              "      <td>12.174373</td>\n",
              "      <td>11.988842</td>\n",
              "      <td>12.174373</td>\n",
              "      <td>1500</td>\n",
              "    </tr>\n",
              "    <tr>\n",
              "      <th>3</th>\n",
              "      <td>XLB</td>\n",
              "      <td>Materials</td>\n",
              "      <td>1998-12-28</td>\n",
              "      <td>12.156707</td>\n",
              "      <td>12.156707</td>\n",
              "      <td>12.050689</td>\n",
              "      <td>12.068358</td>\n",
              "      <td>2500</td>\n",
              "    </tr>\n",
              "    <tr>\n",
              "      <th>4</th>\n",
              "      <td>XLB</td>\n",
              "      <td>Materials</td>\n",
              "      <td>1998-12-29</td>\n",
              "      <td>12.289228</td>\n",
              "      <td>12.289228</td>\n",
              "      <td>12.289228</td>\n",
              "      <td>12.289228</td>\n",
              "      <td>100</td>\n",
              "    </tr>\n",
              "  </tbody>\n",
              "</table>\n",
              "</div>\n",
              "    <div class=\"colab-df-buttons\">\n",
              "\n",
              "  <div class=\"colab-df-container\">\n",
              "    <button class=\"colab-df-convert\" onclick=\"convertToInteractive('df-86204c2d-5a89-4107-b073-b401521ca2f0')\"\n",
              "            title=\"Convert this dataframe to an interactive table.\"\n",
              "            style=\"display:none;\">\n",
              "\n",
              "  <svg xmlns=\"http://www.w3.org/2000/svg\" height=\"24px\" viewBox=\"0 -960 960 960\">\n",
              "    <path d=\"M120-120v-720h720v720H120Zm60-500h600v-160H180v160Zm220 220h160v-160H400v160Zm0 220h160v-160H400v160ZM180-400h160v-160H180v160Zm440 0h160v-160H620v160ZM180-180h160v-160H180v160Zm440 0h160v-160H620v160Z\"/>\n",
              "  </svg>\n",
              "    </button>\n",
              "\n",
              "  <style>\n",
              "    .colab-df-container {\n",
              "      display:flex;\n",
              "      gap: 12px;\n",
              "    }\n",
              "\n",
              "    .colab-df-convert {\n",
              "      background-color: #E8F0FE;\n",
              "      border: none;\n",
              "      border-radius: 50%;\n",
              "      cursor: pointer;\n",
              "      display: none;\n",
              "      fill: #1967D2;\n",
              "      height: 32px;\n",
              "      padding: 0 0 0 0;\n",
              "      width: 32px;\n",
              "    }\n",
              "\n",
              "    .colab-df-convert:hover {\n",
              "      background-color: #E2EBFA;\n",
              "      box-shadow: 0px 1px 2px rgba(60, 64, 67, 0.3), 0px 1px 3px 1px rgba(60, 64, 67, 0.15);\n",
              "      fill: #174EA6;\n",
              "    }\n",
              "\n",
              "    .colab-df-buttons div {\n",
              "      margin-bottom: 4px;\n",
              "    }\n",
              "\n",
              "    [theme=dark] .colab-df-convert {\n",
              "      background-color: #3B4455;\n",
              "      fill: #D2E3FC;\n",
              "    }\n",
              "\n",
              "    [theme=dark] .colab-df-convert:hover {\n",
              "      background-color: #434B5C;\n",
              "      box-shadow: 0px 1px 3px 1px rgba(0, 0, 0, 0.15);\n",
              "      filter: drop-shadow(0px 1px 2px rgba(0, 0, 0, 0.3));\n",
              "      fill: #FFFFFF;\n",
              "    }\n",
              "  </style>\n",
              "\n",
              "    <script>\n",
              "      const buttonEl =\n",
              "        document.querySelector('#df-86204c2d-5a89-4107-b073-b401521ca2f0 button.colab-df-convert');\n",
              "      buttonEl.style.display =\n",
              "        google.colab.kernel.accessAllowed ? 'block' : 'none';\n",
              "\n",
              "      async function convertToInteractive(key) {\n",
              "        const element = document.querySelector('#df-86204c2d-5a89-4107-b073-b401521ca2f0');\n",
              "        const dataTable =\n",
              "          await google.colab.kernel.invokeFunction('convertToInteractive',\n",
              "                                                    [key], {});\n",
              "        if (!dataTable) return;\n",
              "\n",
              "        const docLinkHtml = 'Like what you see? Visit the ' +\n",
              "          '<a target=\"_blank\" href=https://colab.research.google.com/notebooks/data_table.ipynb>data table notebook</a>'\n",
              "          + ' to learn more about interactive tables.';\n",
              "        element.innerHTML = '';\n",
              "        dataTable['output_type'] = 'display_data';\n",
              "        await google.colab.output.renderOutput(dataTable, element);\n",
              "        const docLink = document.createElement('div');\n",
              "        docLink.innerHTML = docLinkHtml;\n",
              "        element.appendChild(docLink);\n",
              "      }\n",
              "    </script>\n",
              "  </div>\n",
              "\n",
              "\n",
              "<div id=\"df-9c8854d0-118f-494d-ac41-20f901b2a094\">\n",
              "  <button class=\"colab-df-quickchart\" onclick=\"quickchart('df-9c8854d0-118f-494d-ac41-20f901b2a094')\"\n",
              "            title=\"Suggest charts\"\n",
              "            style=\"display:none;\">\n",
              "\n",
              "<svg xmlns=\"http://www.w3.org/2000/svg\" height=\"24px\"viewBox=\"0 0 24 24\"\n",
              "     width=\"24px\">\n",
              "    <g>\n",
              "        <path d=\"M19 3H5c-1.1 0-2 .9-2 2v14c0 1.1.9 2 2 2h14c1.1 0 2-.9 2-2V5c0-1.1-.9-2-2-2zM9 17H7v-7h2v7zm4 0h-2V7h2v10zm4 0h-2v-4h2v4z\"/>\n",
              "    </g>\n",
              "</svg>\n",
              "  </button>\n",
              "\n",
              "<style>\n",
              "  .colab-df-quickchart {\n",
              "      --bg-color: #E8F0FE;\n",
              "      --fill-color: #1967D2;\n",
              "      --hover-bg-color: #E2EBFA;\n",
              "      --hover-fill-color: #174EA6;\n",
              "      --disabled-fill-color: #AAA;\n",
              "      --disabled-bg-color: #DDD;\n",
              "  }\n",
              "\n",
              "  [theme=dark] .colab-df-quickchart {\n",
              "      --bg-color: #3B4455;\n",
              "      --fill-color: #D2E3FC;\n",
              "      --hover-bg-color: #434B5C;\n",
              "      --hover-fill-color: #FFFFFF;\n",
              "      --disabled-bg-color: #3B4455;\n",
              "      --disabled-fill-color: #666;\n",
              "  }\n",
              "\n",
              "  .colab-df-quickchart {\n",
              "    background-color: var(--bg-color);\n",
              "    border: none;\n",
              "    border-radius: 50%;\n",
              "    cursor: pointer;\n",
              "    display: none;\n",
              "    fill: var(--fill-color);\n",
              "    height: 32px;\n",
              "    padding: 0;\n",
              "    width: 32px;\n",
              "  }\n",
              "\n",
              "  .colab-df-quickchart:hover {\n",
              "    background-color: var(--hover-bg-color);\n",
              "    box-shadow: 0 1px 2px rgba(60, 64, 67, 0.3), 0 1px 3px 1px rgba(60, 64, 67, 0.15);\n",
              "    fill: var(--button-hover-fill-color);\n",
              "  }\n",
              "\n",
              "  .colab-df-quickchart-complete:disabled,\n",
              "  .colab-df-quickchart-complete:disabled:hover {\n",
              "    background-color: var(--disabled-bg-color);\n",
              "    fill: var(--disabled-fill-color);\n",
              "    box-shadow: none;\n",
              "  }\n",
              "\n",
              "  .colab-df-spinner {\n",
              "    border: 2px solid var(--fill-color);\n",
              "    border-color: transparent;\n",
              "    border-bottom-color: var(--fill-color);\n",
              "    animation:\n",
              "      spin 1s steps(1) infinite;\n",
              "  }\n",
              "\n",
              "  @keyframes spin {\n",
              "    0% {\n",
              "      border-color: transparent;\n",
              "      border-bottom-color: var(--fill-color);\n",
              "      border-left-color: var(--fill-color);\n",
              "    }\n",
              "    20% {\n",
              "      border-color: transparent;\n",
              "      border-left-color: var(--fill-color);\n",
              "      border-top-color: var(--fill-color);\n",
              "    }\n",
              "    30% {\n",
              "      border-color: transparent;\n",
              "      border-left-color: var(--fill-color);\n",
              "      border-top-color: var(--fill-color);\n",
              "      border-right-color: var(--fill-color);\n",
              "    }\n",
              "    40% {\n",
              "      border-color: transparent;\n",
              "      border-right-color: var(--fill-color);\n",
              "      border-top-color: var(--fill-color);\n",
              "    }\n",
              "    60% {\n",
              "      border-color: transparent;\n",
              "      border-right-color: var(--fill-color);\n",
              "    }\n",
              "    80% {\n",
              "      border-color: transparent;\n",
              "      border-right-color: var(--fill-color);\n",
              "      border-bottom-color: var(--fill-color);\n",
              "    }\n",
              "    90% {\n",
              "      border-color: transparent;\n",
              "      border-bottom-color: var(--fill-color);\n",
              "    }\n",
              "  }\n",
              "</style>\n",
              "\n",
              "  <script>\n",
              "    async function quickchart(key) {\n",
              "      const quickchartButtonEl =\n",
              "        document.querySelector('#' + key + ' button');\n",
              "      quickchartButtonEl.disabled = true;  // To prevent multiple clicks.\n",
              "      quickchartButtonEl.classList.add('colab-df-spinner');\n",
              "      try {\n",
              "        const charts = await google.colab.kernel.invokeFunction(\n",
              "            'suggestCharts', [key], {});\n",
              "      } catch (error) {\n",
              "        console.error('Error during call to suggestCharts:', error);\n",
              "      }\n",
              "      quickchartButtonEl.classList.remove('colab-df-spinner');\n",
              "      quickchartButtonEl.classList.add('colab-df-quickchart-complete');\n",
              "    }\n",
              "    (() => {\n",
              "      let quickchartButtonEl =\n",
              "        document.querySelector('#df-9c8854d0-118f-494d-ac41-20f901b2a094 button');\n",
              "      quickchartButtonEl.style.display =\n",
              "        google.colab.kernel.accessAllowed ? 'block' : 'none';\n",
              "    })();\n",
              "  </script>\n",
              "</div>\n",
              "\n",
              "    </div>\n",
              "  </div>\n"
            ],
            "application/vnd.google.colaboratory.intrinsic+json": {
              "type": "dataframe",
              "variable_name": "filtered_data",
              "summary": "{\n  \"name\": \"filtered_data\",\n  \"rows\": 58338,\n  \"fields\": [\n    {\n      \"column\": \"ticker\",\n      \"properties\": {\n        \"dtype\": \"category\",\n        \"num_unique_values\": 9,\n        \"samples\": [\n          \"XLV\",\n          \"XLE\",\n          \"XLP\"\n        ],\n        \"semantic_type\": \"\",\n        \"description\": \"\"\n      }\n    },\n    {\n      \"column\": \"sector\",\n      \"properties\": {\n        \"dtype\": \"category\",\n        \"num_unique_values\": 9,\n        \"samples\": [\n          \"Health Care\",\n          \"Energy\",\n          \"Consumer Staples\"\n        ],\n        \"semantic_type\": \"\",\n        \"description\": \"\"\n      }\n    },\n    {\n      \"column\": \"date\",\n      \"properties\": {\n        \"dtype\": \"date\",\n        \"min\": \"1998-12-22 00:00:00\",\n        \"max\": \"2024-09-26 00:00:00\",\n        \"num_unique_values\": 6482,\n        \"samples\": [\n          \"2013-02-14 00:00:00\",\n          \"2014-06-30 00:00:00\",\n          \"2007-06-15 00:00:00\"\n        ],\n        \"semantic_type\": \"\",\n        \"description\": \"\"\n      }\n    },\n    {\n      \"column\": \"open\",\n      \"properties\": {\n        \"dtype\": \"number\",\n        \"std\": 34.796827446744565,\n        \"min\": 3.6875964477456504,\n        \"max\": 237.61318249971805,\n        \"num_unique_values\": 58219,\n        \"samples\": [\n          126.43206643913891,\n          43.29945968211949,\n          15.13086431915782\n        ],\n        \"semantic_type\": \"\",\n        \"description\": \"\"\n      }\n    },\n    {\n      \"column\": \"high\",\n      \"properties\": {\n        \"dtype\": \"number\",\n        \"std\": 35.04115395851451,\n        \"min\": 3.931405355536246,\n        \"max\": 237.7130092901565,\n        \"num_unique_values\": 58106,\n        \"samples\": [\n          17.12073904087976,\n          153.01830383391285,\n          14.871948391306516\n        ],\n        \"semantic_type\": \"\",\n        \"description\": \"\"\n      }\n    },\n    {\n      \"column\": \"low\",\n      \"properties\": {\n        \"dtype\": \"number\",\n        \"std\": 34.53755475739187,\n        \"min\": 3.5839790034854158,\n        \"max\": 234.14942084084598,\n        \"num_unique_values\": 58120,\n        \"samples\": [\n          44.414941468583706,\n          16.870354518451308,\n          56.20195218307039\n        ],\n        \"semantic_type\": \"\",\n        \"description\": \"\"\n      }\n    },\n    {\n      \"column\": \"close\",\n      \"properties\": {\n        \"dtype\": \"number\",\n        \"std\": 34.80302379062819,\n        \"min\": 3.7668354511260986,\n        \"max\": 237.2538299560547,\n        \"num_unique_values\": 52481,\n        \"samples\": [\n          83.39388275146484,\n          52.42804718017578,\n          17.166170120239258\n        ],\n        \"semantic_type\": \"\",\n        \"description\": \"\"\n      }\n    },\n    {\n      \"column\": \"volume\",\n      \"properties\": {\n        \"dtype\": \"number\",\n        \"std\": 28087820,\n        \"min\": 0,\n        \"max\": 1050592272,\n        \"num_unique_values\": 47387,\n        \"samples\": [\n          547700,\n          1332300,\n          9786000\n        ],\n        \"semantic_type\": \"\",\n        \"description\": \"\"\n      }\n    }\n  ]\n}"
            }
          },
          "metadata": {},
          "execution_count": 10
        }
      ]
    },
    {
      "cell_type": "code",
      "source": [
        "filtered_data.info()"
      ],
      "metadata": {
        "colab": {
          "base_uri": "https://localhost:8080/"
        },
        "id": "GZTKOgHDIxY3",
        "outputId": "464a13b8-e74a-451b-88e0-67871e8330d0"
      },
      "execution_count": 13,
      "outputs": [
        {
          "output_type": "stream",
          "name": "stdout",
          "text": [
            "<class 'pandas.core.frame.DataFrame'>\n",
            "RangeIndex: 58338 entries, 0 to 58337\n",
            "Data columns (total 8 columns):\n",
            " #   Column  Non-Null Count  Dtype         \n",
            "---  ------  --------------  -----         \n",
            " 0   ticker  58338 non-null  object        \n",
            " 1   sector  58338 non-null  object        \n",
            " 2   date    58338 non-null  datetime64[ns]\n",
            " 3   open    58338 non-null  float64       \n",
            " 4   high    58338 non-null  float64       \n",
            " 5   low     58338 non-null  float64       \n",
            " 6   close   58338 non-null  float64       \n",
            " 7   volume  58338 non-null  int64         \n",
            "dtypes: datetime64[ns](1), float64(4), int64(1), object(2)\n",
            "memory usage: 3.6+ MB\n"
          ]
        }
      ]
    },
    {
      "cell_type": "code",
      "source": [
        "# Set 'date' as the index if not already\n",
        "filtered_data.set_index('date', inplace=True)"
      ],
      "metadata": {
        "id": "51kzbun2HTiE"
      },
      "execution_count": 14,
      "outputs": []
    },
    {
      "cell_type": "code",
      "source": [
        "# prompt: group by ticker and resample to monthly using the last available price\n",
        "\n",
        "monthly_data = filtered_data.groupby('ticker')['close'].resample('M').last()\n"
      ],
      "metadata": {
        "id": "VbUWvPtJISS8"
      },
      "execution_count": 32,
      "outputs": []
    },
    {
      "cell_type": "code",
      "source": [
        "#monthly_prices = monthly_prices.reset_index()\n",
        "#monthly_prices.set_index('date', inplace=True)\n",
        "monthly_data.head()"
      ],
      "metadata": {
        "colab": {
          "base_uri": "https://localhost:8080/",
          "height": 272
        },
        "id": "ZWKhj8elKlP8",
        "outputId": "9d77a99e-ec6d-4d36-8524-1313250e2e6e"
      },
      "execution_count": 33,
      "outputs": [
        {
          "output_type": "execute_result",
          "data": {
            "text/plain": [
              "ticker  date      \n",
              "XLB     1998-12-31    12.395246\n",
              "        1999-01-31    11.935835\n",
              "        1999-02-28    12.121369\n",
              "        1999-03-31    12.339425\n",
              "        1999-04-30    15.388814\n",
              "Name: close, dtype: float64"
            ],
            "text/html": [
              "<div>\n",
              "<style scoped>\n",
              "    .dataframe tbody tr th:only-of-type {\n",
              "        vertical-align: middle;\n",
              "    }\n",
              "\n",
              "    .dataframe tbody tr th {\n",
              "        vertical-align: top;\n",
              "    }\n",
              "\n",
              "    .dataframe thead th {\n",
              "        text-align: right;\n",
              "    }\n",
              "</style>\n",
              "<table border=\"1\" class=\"dataframe\">\n",
              "  <thead>\n",
              "    <tr style=\"text-align: right;\">\n",
              "      <th></th>\n",
              "      <th></th>\n",
              "      <th>close</th>\n",
              "    </tr>\n",
              "    <tr>\n",
              "      <th>ticker</th>\n",
              "      <th>date</th>\n",
              "      <th></th>\n",
              "    </tr>\n",
              "  </thead>\n",
              "  <tbody>\n",
              "    <tr>\n",
              "      <th rowspan=\"5\" valign=\"top\">XLB</th>\n",
              "      <th>1998-12-31</th>\n",
              "      <td>12.395246</td>\n",
              "    </tr>\n",
              "    <tr>\n",
              "      <th>1999-01-31</th>\n",
              "      <td>11.935835</td>\n",
              "    </tr>\n",
              "    <tr>\n",
              "      <th>1999-02-28</th>\n",
              "      <td>12.121369</td>\n",
              "    </tr>\n",
              "    <tr>\n",
              "      <th>1999-03-31</th>\n",
              "      <td>12.339425</td>\n",
              "    </tr>\n",
              "    <tr>\n",
              "      <th>1999-04-30</th>\n",
              "      <td>15.388814</td>\n",
              "    </tr>\n",
              "  </tbody>\n",
              "</table>\n",
              "</div><br><label><b>dtype:</b> float64</label>"
            ]
          },
          "metadata": {},
          "execution_count": 33
        }
      ]
    },
    {
      "cell_type": "code",
      "source": [
        "# Calculate the number of shares bought each month\n",
        "monthly_data = monthly_data.reset_index()\n",
        "monthly_data['shares_bought'] = 100 / monthly_data['close']\n",
        "monthly_data.set_index(['ticker','date'], inplace=True)\n",
        "monthly_data.info()"
      ],
      "metadata": {
        "colab": {
          "base_uri": "https://localhost:8080/"
        },
        "id": "Bv4LPU2LQwQa",
        "outputId": "f6c92d2d-93bf-4262-a23a-b0454225f087"
      },
      "execution_count": 35,
      "outputs": [
        {
          "output_type": "stream",
          "name": "stdout",
          "text": [
            "<class 'pandas.core.frame.DataFrame'>\n",
            "MultiIndex: 2790 entries, ('XLB', Timestamp('1998-12-31 00:00:00')) to ('XLY', Timestamp('2024-09-30 00:00:00'))\n",
            "Data columns (total 3 columns):\n",
            " #   Column         Non-Null Count  Dtype  \n",
            "---  ------         --------------  -----  \n",
            " 0   index          2790 non-null   int64  \n",
            " 1   close          2790 non-null   float64\n",
            " 2   shares_bought  2790 non-null   float64\n",
            "dtypes: float64(2), int64(1)\n",
            "memory usage: 84.6+ KB\n"
          ]
        }
      ]
    },
    {
      "cell_type": "code",
      "source": [
        "# Calculate cumulative shares bought by each ticker\n",
        "monthly_data['cumulative_shares'] = monthly_data.groupby('ticker')['shares_bought'].cumsum()\n",
        "print(monthly_data.info())\n",
        "print(monthly_data.head())"
      ],
      "metadata": {
        "colab": {
          "base_uri": "https://localhost:8080/"
        },
        "id": "drz9AAjVg8jR",
        "outputId": "4c23edd0-ddbc-49e3-cff3-ad961985f2ef"
      },
      "execution_count": 36,
      "outputs": [
        {
          "output_type": "stream",
          "name": "stdout",
          "text": [
            "<class 'pandas.core.frame.DataFrame'>\n",
            "MultiIndex: 2790 entries, ('XLB', Timestamp('1998-12-31 00:00:00')) to ('XLY', Timestamp('2024-09-30 00:00:00'))\n",
            "Data columns (total 4 columns):\n",
            " #   Column             Non-Null Count  Dtype  \n",
            "---  ------             --------------  -----  \n",
            " 0   index              2790 non-null   int64  \n",
            " 1   close              2790 non-null   float64\n",
            " 2   shares_bought      2790 non-null   float64\n",
            " 3   cumulative_shares  2790 non-null   float64\n",
            "dtypes: float64(3), int64(1)\n",
            "memory usage: 106.4+ KB\n",
            "None\n",
            "                   index      close  shares_bought  cumulative_shares\n",
            "ticker date                                                          \n",
            "XLB    1998-12-31      0  12.395246       8.067609           8.067609\n",
            "       1999-01-31      1  11.935835       8.378132          16.445741\n",
            "       1999-02-28      2  12.121369       8.249893          24.695634\n",
            "       1999-03-31      3  12.339425       8.104105          32.799740\n",
            "       1999-04-30      4  15.388814       6.498227          39.297966\n"
          ]
        }
      ]
    },
    {
      "cell_type": "code",
      "source": [
        "monthly_data['investment_value'] = monthly_data['cumulative_shares'] * monthly_data['close']\n",
        "print(monthly_data.info())\n",
        "print(monthly_data.head())"
      ],
      "metadata": {
        "colab": {
          "base_uri": "https://localhost:8080/"
        },
        "id": "YmjzlX-njcCg",
        "outputId": "c1e32352-65f4-4bf1-aff8-2e040cfc5cab"
      },
      "execution_count": 37,
      "outputs": [
        {
          "output_type": "stream",
          "name": "stdout",
          "text": [
            "<class 'pandas.core.frame.DataFrame'>\n",
            "MultiIndex: 2790 entries, ('XLB', Timestamp('1998-12-31 00:00:00')) to ('XLY', Timestamp('2024-09-30 00:00:00'))\n",
            "Data columns (total 5 columns):\n",
            " #   Column             Non-Null Count  Dtype  \n",
            "---  ------             --------------  -----  \n",
            " 0   index              2790 non-null   int64  \n",
            " 1   close              2790 non-null   float64\n",
            " 2   shares_bought      2790 non-null   float64\n",
            " 3   cumulative_shares  2790 non-null   float64\n",
            " 4   investment_value   2790 non-null   float64\n",
            "dtypes: float64(4), int64(1)\n",
            "memory usage: 128.2+ KB\n",
            "None\n",
            "                   index      close  shares_bought  cumulative_shares  investment_value\n",
            "ticker date                                                                            \n",
            "XLB    1998-12-31      0  12.395246       8.067609           8.067609        100.000000\n",
            "       1999-01-31      1  11.935835       8.378132          16.445741        196.293654\n",
            "       1999-02-28      2  12.121369       8.249893          24.695634        299.344906\n",
            "       1999-03-31      3  12.339425       8.104105          32.799740        404.729931\n",
            "       1999-04-30      4  15.388814       6.498227          39.297966        604.749092\n"
          ]
        }
      ]
    },
    {
      "cell_type": "code",
      "source": [
        "# Reset index for easier plotting\n",
        "plot_data = monthly_data.reset_index()\n",
        "\n",
        "# Pivot the data for easy plotting\n",
        "pivot_data = plot_data.pivot(index='date', columns='ticker', values='investment_value')\n",
        "\n",
        "# Plotting\n",
        "plt.figure(figsize=(14, 8))\n",
        "\n",
        "for column in pivot_data.columns:\n",
        "    plt.plot(pivot_data.index, pivot_data[column], label=tickers_names.get(column, \"Unknown\"))\n",
        "\n",
        "plt.title('Investment Value Over Time by Sector')\n",
        "plt.xlabel('Date')\n",
        "plt.ylabel('Investment Value ($)')\n",
        "plt.legend(title='Sector')\n",
        "plt.grid(True)\n",
        "plt.show()"
      ],
      "metadata": {
        "colab": {
          "base_uri": "https://localhost:8080/",
          "height": 718
        },
        "id": "wUjXOL4Girog",
        "outputId": "a6cc21c6-304e-4c20-8566-94219e486bf4"
      },
      "execution_count": 41,
      "outputs": [
        {
          "output_type": "display_data",
          "data": {
            "text/plain": [
              "<Figure size 1400x800 with 1 Axes>"
            ],
            "image/png": "[encoded data removed]"
          },
          "metadata": {}
        }
      ]
    },
    {
      "cell_type": "code",
      "source": [
        "# prompt: Get the last investment_value of each ticker\n",
        "\n",
        "last_investment_value = monthly_data.groupby('ticker')['investment_value'].last()\n",
        "print(last_investment_value)\n"
      ],
      "metadata": {
        "colab": {
          "base_uri": "https://localhost:8080/"
        },
        "id": "paZfN_4pmMJT",
        "outputId": "b0031a0f-e5f0-40ae-eb6b-5089844d771a"
      },
      "execution_count": 43,
      "outputs": [
        {
          "output_type": "stream",
          "name": "stdout",
          "text": [
            "ticker\n",
            "XLB    119953.829665\n",
            "XLE     88551.408855\n",
            "XLF     92856.151966\n",
            "XLI    144187.767121\n",
            "XLK    268806.777349\n",
            "XLP    116035.567306\n",
            "XLU    116747.566734\n",
            "XLV    145793.940021\n",
            "XLY    172477.781892\n",
            "Name: investment_value, dtype: float64\n"
          ]
        }
      ]
    },
    {
      "cell_type": "code",
      "source": [
        "# prompt: count how many unique dates and multiply by 100 to get the total invested amount. From the earlier last_investment_value per each ticker calculate the net return percentage\n",
        "\n",
        "# Count unique dates\n",
        "unique_dates_count = monthly_data.reset_index()['date'].nunique()\n",
        "\n",
        "# Total invested amount\n",
        "total_invested_amount = unique_dates_count * 100\n",
        "\n",
        "# Calculate net return percentage for each ticker\n",
        "net_return_percentage = (last_investment_value / total_invested_amount) * 100\n",
        "\n",
        "print(f\"Total Invested Amount: ${total_invested_amount}\")\n",
        "print(\"\\nNet Return Percentage by Ticker:\")\n",
        "print(net_return_percentage.sort_values(ascending=False))\n"
      ],
      "metadata": {
        "colab": {
          "base_uri": "https://localhost:8080/"
        },
        "id": "WxBHiAXCmrPF",
        "outputId": "98937eaf-b6d8-4b46-d8b9-298653cf204f"
      },
      "execution_count": 48,
      "outputs": [
        {
          "output_type": "stream",
          "name": "stdout",
          "text": [
            "Total Invested Amount: $31000\n",
            "\n",
            "Net Return Percentage by Ticker:\n",
            "ticker\n",
            "XLK    867.118637\n",
            "XLY    556.379942\n",
            "XLV    470.303032\n",
            "XLI    465.121829\n",
            "XLB    386.947838\n",
            "XLU    376.605054\n",
            "XLP    374.308282\n",
            "XLF    299.535974\n",
            "XLE    285.649706\n",
            "Name: investment_value, dtype: float64\n"
          ]
        }
      ]
    },
    {
      "cell_type": "code",
      "source": [
        "# prompt: Total investment_value at end of every 5th year per ticker with year in column and ticker as index\n",
        "\n",
        "# Group by ticker and year (rounded down to the nearest 5 years)\n",
        "yearly_data = monthly_data.reset_index()\n",
        "yearly_data['year'] = (yearly_data['date'].dt.year // 5) * 5  # Round down to nearest 5 years\n",
        "yearly_data = yearly_data.groupby(['ticker', 'year'])['investment_value'].last().unstack()\n",
        "\n",
        "print(yearly_data)\n"
      ],
      "metadata": {
        "colab": {
          "base_uri": "https://localhost:8080/"
        },
        "id": "WmsmSUb2oFy4",
        "outputId": "6119e76a-a01d-4cce-eb66-43ff5f526a31"
      },
      "execution_count": 50,
      "outputs": [
        {
          "output_type": "stream",
          "name": "stdout",
          "text": [
            "year           1995          2000          2005          2010           2015           2020\n",
            "ticker                                                                                     \n",
            "XLB     1458.058895  10429.053552  19639.284111  40790.176453   64499.914858  119953.829665\n",
            "XLE     1367.130858  10290.726328  23717.710633  42946.085769   45059.720752   88551.408855\n",
            "XLF     1275.113956   9249.910394   9193.114272  26340.398922   52711.190005   92856.151966\n",
            "XLI     1420.353672   9067.893433  14779.698248  42668.623329   76001.894321  144187.767121\n",
            "XLK     1775.819527   6683.929082  14414.415809  37409.803398  100217.663206  268806.777349\n",
            "XLP     1195.602813   7627.223110  16623.474090  44051.158398   73028.469752  116035.567306\n",
            "XLU     1268.091026   8838.609242  17875.452642  41967.599336   76228.479792  116747.566734\n",
            "XLV     1440.585270   8008.809339  15307.651319  47762.421165   85477.488616  145793.940021\n",
            "XLY     1447.639632   9601.691181  14752.525478  48549.260762   99117.499817  172477.781892\n"
          ]
        }
      ]
    },
    {
      "cell_type": "code",
      "source": [],
      "metadata": {
        "id": "VQNBM8tsoWBQ"
      },
      "execution_count": null,
      "outputs": []
    }
  ]
}