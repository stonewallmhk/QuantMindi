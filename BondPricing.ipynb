{
  "nbformat": 4,
  "nbformat_minor": 0,
  "metadata": {
    "colab": {
      "provenance": [],
      "authorship_tag": "ABX9TyMdJwevdmAzYKYB79j8Celf",
      "include_colab_link": true
    },
    "kernelspec": {
      "name": "python3",
      "display_name": "Python 3"
    },
    "language_info": {
      "name": "python"
    }
  },
  "cells": [
    {
      "cell_type": "markdown",
      "metadata": {
        "id": "view-in-github",
        "colab_type": "text"
      },
      "source": [
        "<a href=\"https://colab.research.google.com/github/stonewallmhk/QuantMindi/blob/main/BondPricing.ipynb\" target=\"_parent\"><img src=\"https://colab.research.google.com/assets/colab-badge.svg\" alt=\"Open In Colab\"/></a>"
      ]
    },
    {
      "cell_type": "markdown",
      "source": [
        "**Implement Zero Coupon Bond Pricing**<br>\n",
        "\n",
        "A zero-coupon bond is a debt security instrument that does not pay interest. Zero-coupon bonds trade at deep discounts, offering full face value (par) profits at maturity. <br>\n",
        "The zero coupon bond price or value is the present value of all future cash flows expected from the bond. As the bond has no interest payments, the only cash flow is the face value of the bond received at the maturity date\n",
        "<br><br>\n",
        "The price of a zero-coupon bond can be calculated with the following equation:<br>\n",
        " Zero-coupon bond price = Maturity value ÷ (1 + required interest rate)^number years to maturity. <br><br>\n",
        " "
      ],
      "metadata": {
        "id": "jiLGK3m0P_eG"
      }
    },
    {
      "cell_type": "code",
      "execution_count": null,
      "metadata": {
        "colab": {
          "base_uri": "https://localhost:8080/"
        },
        "id": "2Hcc5ZGxDCYW",
        "outputId": "4235ca86-d03e-4c87-bbe1-8556d57557e2"
      },
      "outputs": [
        {
          "output_type": "stream",
          "name": "stdout",
          "text": [
            "Price of the bond: 924.56\n"
          ]
        }
      ],
      "source": [
        "class ZeroCouponBonds:\n",
        "\n",
        "  def __init__(self, principal, maturity, interest_rate):\n",
        "    self.principal = principal\n",
        "    self.maturity = maturity\n",
        "    self.interest_rate = interest_rate/100\n",
        "\n",
        "  def present_value(self, x, n):\n",
        "    return x/(1+self.interest_rate)**n\n",
        "\n",
        "  def calculate_price(self):\n",
        "    return self.present_value(self.principal, self.maturity)\n",
        "\n",
        "if __name__ == '__main__':\n",
        "  \n",
        "  bond = ZeroCouponBonds(1000, 2, 4)\n",
        "  print(f'Price of the bond: {bond.calculate_price():.2f}')"
      ]
    },
    {
      "cell_type": "markdown",
      "source": [
        "**Coupon Bonds**<br>\n",
        "A coupon bond is a debt security that pays periodic interest payments known as coupons. The pricing of coupon bonds is based on the present value of future cash flows expected from the bond. \n",
        "\n",
        "**Implement Coupon Bond pricing (Discrete Model)**<br>\n",
        "The present value of each coupon payment is calculated using the discount rate and the time to the next coupon payment. The present value of the face value or maturity value is calculated using the discount rate and the time to maturity. The sum of all present values is the price of the bond"
      ],
      "metadata": {
        "id": "HmuEOKjWSQaw"
      }
    },
    {
      "cell_type": "code",
      "source": [
        "class CouponBonds:\n",
        "\n",
        "  def __init__(self, principal, rate, maturity, interest_rate):\n",
        "    self.principal = principal\n",
        "    self.maturity = maturity\n",
        "    self.rate = rate/100\n",
        "    self.interest_rate = interest_rate/100\n",
        "\n",
        "  def present_value(self, x, n):\n",
        "    return x / (1+self.interest_rate)**n\n",
        "\n",
        "  def calculate_price(self):\n",
        "    \n",
        "    price = 0\n",
        "    #discount the coupon payments\n",
        "    for t in range(1, self.maturity+1):\n",
        "      price = price + self.present_value(self.principal * self.rate, t)\n",
        "      \n",
        "    # discount principal amount\n",
        "    price = price + self.present_value(self.principal, self.maturity)\n",
        "\n",
        "    return price\n",
        "\n",
        "if __name__ == '__main__':\n",
        "  \n",
        "  bond = CouponBonds(1000, 10, 3, 4)\n",
        "  print(f'Price of the bond: {bond.calculate_price():.2f}')"
      ],
      "metadata": {
        "colab": {
          "base_uri": "https://localhost:8080/"
        },
        "id": "g4YeaZvyFYR8",
        "outputId": "1fec4125-d301-4037-c6fa-720547e8e9ab"
      },
      "execution_count": null,
      "outputs": [
        {
          "output_type": "stream",
          "name": "stdout",
          "text": [
            "Price of the bond: 1166.51\n"
          ]
        }
      ]
    },
    {
      "cell_type": "markdown",
      "source": [
        "**Implement Coupon Bond pricing (Continuous Model)**"
      ],
      "metadata": {
        "id": "VECOGtn8SXb5"
      }
    },
    {
      "cell_type": "code",
      "source": [
        "import math\n",
        "class CouponBondContinuous:\n",
        "\n",
        "  def __init__(self, principal, rate, maturity, interest_rate):\n",
        "    self.principal = principal\n",
        "    self.maturity = maturity\n",
        "    self.rate = rate/100\n",
        "    self.interest_rate = interest_rate/100\n",
        "\n",
        "  def present_value(self, x, n):\n",
        "    return x * math.exp(-self.interest_rate*n)\n",
        "\n",
        "  def calculate_price(self):\n",
        "    price = 0\n",
        "    #discount the coupon payments\n",
        "    for t in range(1, self.maturity+1):\n",
        "      price = price + self.present_value(self.principal * self.rate, t)\n",
        "      \n",
        "    # discount principal amount\n",
        "    price = price + self.present_value(self.principal, self.maturity)\n",
        "\n",
        "    return price\n",
        "\n",
        "if __name__ == '__main__':\n",
        "  \n",
        "  bond = CouponBondContinuous(1000, 10, 3, 4)\n",
        "  print(f'Price of the bond: {bond.calculate_price():.2f}')\n",
        "\n"
      ],
      "metadata": {
        "colab": {
          "base_uri": "https://localhost:8080/"
        },
        "id": "GBhpm-HoLpFs",
        "outputId": "a0dae9c8-d900-4a7c-d5ce-b025911f6043"
      },
      "execution_count": null,
      "outputs": [
        {
          "output_type": "stream",
          "name": "stdout",
          "text": [
            "Price of the bond: 1164.00\n"
          ]
        }
      ]
    }
  ]
}