{
  "nbformat": 4,
  "nbformat_minor": 0,
  "metadata": {
    "colab": {
      "provenance": [],
      "authorship_tag": "ABX9TyMor3xXKS0Eh3Yl52mzfsLr",
      "include_colab_link": true
    },
    "kernelspec": {
      "name": "python3",
      "display_name": "Python 3"
    },
    "language_info": {
      "name": "python"
    }
  },
  "cells": [
    {
      "cell_type": "markdown",
      "metadata": {
        "id": "view-in-github",
        "colab_type": "text"
      },
      "source": [
        "<a href=\"https://colab.research.google.com/github/stonewallmhk/QuantMindi/blob/main/BondPricing.ipynb\" target=\"_parent\"><img src=\"https://colab.research.google.com/assets/colab-badge.svg\" alt=\"Open In Colab\"/></a>"
      ]
    },
    {
      "cell_type": "markdown",
      "source": [
        "**Implement Zero Coupon Bond Pricing**"
      ],
      "metadata": {
        "id": "jiLGK3m0P_eG"
      }
    },
    {
      "cell_type": "code",
      "execution_count": 10,
      "metadata": {
        "colab": {
          "base_uri": "https://localhost:8080/"
        },
        "id": "2Hcc5ZGxDCYW",
        "outputId": "4235ca86-d03e-4c87-bbe1-8556d57557e2"
      },
      "outputs": [
        {
          "output_type": "stream",
          "name": "stdout",
          "text": [
            "Price of the bond: 924.56\n"
          ]
        }
      ],
      "source": [
        "class ZeroCouponBonds:\n",
        "\n",
        "  def __init__(self, principal, maturity, interest_rate):\n",
        "    self.principal = principal\n",
        "    self.maturity = maturity\n",
        "    self.interest_rate = interest_rate/100\n",
        "\n",
        "  def present_value(self, x, n):\n",
        "    return x/(1+self.interest_rate)**n\n",
        "\n",
        "  def calculate_price(self):\n",
        "    return self.present_value(self.principal, self.maturity)\n",
        "\n",
        "if __name__ == '__main__':\n",
        "  \n",
        "  bond = ZeroCouponBonds(1000, 2, 4)\n",
        "  print(f'Price of the bond: {bond.calculate_price():.2f}')"
      ]
    },
    {
      "cell_type": "markdown",
      "source": [
        "**Implement Coupon Bond pricing (Discrete Model)**"
      ],
      "metadata": {
        "id": "HmuEOKjWSQaw"
      }
    },
    {
      "cell_type": "code",
      "source": [
        "class CouponBonds:\n",
        "\n",
        "  def __init__(self, principal, rate, maturity, interest_rate):\n",
        "    self.principal = principal\n",
        "    self.maturity = maturity\n",
        "    self.rate = rate/100\n",
        "    self.interest_rate = interest_rate/100\n",
        "\n",
        "  def present_value(self, x, n):\n",
        "    return x / (1+self.interest_rate)**n\n",
        "\n",
        "  def calculate_price(self):\n",
        "    \n",
        "    price = 0\n",
        "    #discount the coupon payments\n",
        "    for t in range(1, self.maturity+1):\n",
        "      price = price + self.present_value(self.principal * self.rate, t)\n",
        "      \n",
        "    # discount principal amount\n",
        "    price = price + self.present_value(self.principal, self.maturity)\n",
        "\n",
        "    return price\n",
        "\n",
        "if __name__ == '__main__':\n",
        "  \n",
        "  bond = CouponBonds(1000, 10, 3, 4)\n",
        "  print(f'Price of the bond: {bond.calculate_price():.2f}')"
      ],
      "metadata": {
        "colab": {
          "base_uri": "https://localhost:8080/"
        },
        "id": "g4YeaZvyFYR8",
        "outputId": "1fec4125-d301-4037-c6fa-720547e8e9ab"
      },
      "execution_count": 17,
      "outputs": [
        {
          "output_type": "stream",
          "name": "stdout",
          "text": [
            "Price of the bond: 1166.51\n"
          ]
        }
      ]
    },
    {
      "cell_type": "markdown",
      "source": [
        "**Implement Coupon Bond pricing (Continuous Model)**"
      ],
      "metadata": {
        "id": "VECOGtn8SXb5"
      }
    },
    {
      "cell_type": "code",
      "source": [
        "import math\n",
        "class CouponBondContinuous:\n",
        "\n",
        "  def __init__(self, principal, rate, maturity, interest_rate):\n",
        "    self.principal = principal\n",
        "    self.maturity = maturity\n",
        "    self.rate = rate/100\n",
        "    self.interest_rate = interest_rate/100\n",
        "\n",
        "  def present_value(self, x, n):\n",
        "    return x * math.exp(-self.interest_rate*n)\n",
        "\n",
        "  def calculate_price(self):\n",
        "    price = 0\n",
        "    #discount the coupon payments\n",
        "    for t in range(1, self.maturity+1):\n",
        "      price = price + self.present_value(self.principal * self.rate, t)\n",
        "      \n",
        "    # discount principal amount\n",
        "    price = price + self.present_value(self.principal, self.maturity)\n",
        "\n",
        "    return price\n",
        "\n",
        "if __name__ == '__main__':\n",
        "  \n",
        "  bond = CouponBondContinuous(1000, 10, 3, 4)\n",
        "  print(f'Price of the bond: {bond.calculate_price():.2f}')\n",
        "\n"
      ],
      "metadata": {
        "colab": {
          "base_uri": "https://localhost:8080/"
        },
        "id": "GBhpm-HoLpFs",
        "outputId": "a0dae9c8-d900-4a7c-d5ce-b025911f6043"
      },
      "execution_count": 21,
      "outputs": [
        {
          "output_type": "stream",
          "name": "stdout",
          "text": [
            "Price of the bond: 1164.00\n"
          ]
        }
      ]
    }
  ]
}